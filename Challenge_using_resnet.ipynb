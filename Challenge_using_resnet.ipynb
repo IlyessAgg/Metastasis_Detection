{
 "cells": [
  {
   "cell_type": "markdown",
   "metadata": {},
   "source": [
    "# Detecting breast cancer metastases  \n",
    "\n",
    "The challenge proposed is a weakly-supervised binary classification problem : predict whether a patient **has any metastase** in its lymph node or not, given its slide.  \n",
    "\n",
    "My approach was the following : \n",
    "- Use the annotated patients to create a model that would predict if a **tile** has any metastase. *(Input : Tile. — Output : Probability of metastase in tile.)*\n",
    "- Make predictions on every tile of each non-annotated patient and create a model that would predict if a **patient** has any metastase. *(Input : Predictions on all the tiles. — Output : Probability of metastase in patient.)*\n",
    "\n",
    "I originally wanted to apply this method on the images directly but I ran into some complications and so I applied it on the ResNet features instead. You can still find my attempt using the images on the other notebook."
   ]
  },
  {
   "cell_type": "markdown",
   "metadata": {
    "toc": true
   },
   "source": [
    "<h1>Table of Contents<span class=\"tocSkip\"></span></h1>\n",
    "<div class=\"toc\"><ul class=\"toc-item\"><li><span><a href=\"#Import-&amp;-Data-loading\" data-toc-modified-id=\"Import-&amp;-Data-loading-1\"><span class=\"toc-item-num\">1&nbsp;&nbsp;</span>Import &amp; Data loading</a></span></li><li><span><a href=\"#Averaging-ResNet-Features\" data-toc-modified-id=\"Averaging-ResNet-Features-2\"><span class=\"toc-item-num\">2&nbsp;&nbsp;</span>Averaging ResNet Features</a></span><ul class=\"toc-item\"><li><span><a href=\"#Baseline-(Logistic-Regression)\" data-toc-modified-id=\"Baseline-(Logistic-Regression)-2.1\"><span class=\"toc-item-num\">2.1&nbsp;&nbsp;</span>Baseline (Logistic Regression)</a></span></li><li><span><a href=\"#XGBoost\" data-toc-modified-id=\"XGBoost-2.2\"><span class=\"toc-item-num\">2.2&nbsp;&nbsp;</span>XGBoost</a></span></li><li><span><a href=\"#Feature-importances-using-RF-model\" data-toc-modified-id=\"Feature-importances-using-RF-model-2.3\"><span class=\"toc-item-num\">2.3&nbsp;&nbsp;</span>Feature importances using RF model</a></span></li></ul></li><li><span><a href=\"#Using-Tiles\" data-toc-modified-id=\"Using-Tiles-3\"><span class=\"toc-item-num\">3&nbsp;&nbsp;</span>Using Tiles</a></span><ul class=\"toc-item\"><li><span><a href=\"#Loading-train-tiles-data\" data-toc-modified-id=\"Loading-train-tiles-data-3.1\"><span class=\"toc-item-num\">3.1&nbsp;&nbsp;</span>Loading train tiles data</a></span></li><li><span><a href=\"#Model-to-predict-on-tiles\" data-toc-modified-id=\"Model-to-predict-on-tiles-3.2\"><span class=\"toc-item-num\">3.2&nbsp;&nbsp;</span>Model to predict on tiles</a></span><ul class=\"toc-item\"><li><span><a href=\"#Cross-validation-on-the-data\" data-toc-modified-id=\"Cross-validation-on-the-data-3.2.1\"><span class=\"toc-item-num\">3.2.1&nbsp;&nbsp;</span>Cross-validation on the data</a></span></li><li><span><a href=\"#Train-a-model-on-the-full-data\" data-toc-modified-id=\"Train-a-model-on-the-full-data-3.2.2\"><span class=\"toc-item-num\">3.2.2&nbsp;&nbsp;</span>Train a model on the full data</a></span></li><li><span><a href=\"#Feature-importances-on-a-RF-model\" data-toc-modified-id=\"Feature-importances-on-a-RF-model-3.2.3\"><span class=\"toc-item-num\">3.2.3&nbsp;&nbsp;</span>Feature importances on a RF model</a></span></li></ul></li><li><span><a href=\"#New-model-based-on-tiles-predictions.\" data-toc-modified-id=\"New-model-based-on-tiles-predictions.-3.3\"><span class=\"toc-item-num\">3.3&nbsp;&nbsp;</span>New model based on tiles predictions.</a></span><ul class=\"toc-item\"><li><span><a href=\"#Data\" data-toc-modified-id=\"Data-3.3.1\"><span class=\"toc-item-num\">3.3.1&nbsp;&nbsp;</span>Data</a></span></li><li><span><a href=\"#Feature-engineering\" data-toc-modified-id=\"Feature-engineering-3.3.2\"><span class=\"toc-item-num\">3.3.2&nbsp;&nbsp;</span>Feature engineering</a></span></li><li><span><a href=\"#Bit-of-visualization\" data-toc-modified-id=\"Bit-of-visualization-3.3.3\"><span class=\"toc-item-num\">3.3.3&nbsp;&nbsp;</span>Bit of visualization</a></span></li><li><span><a href=\"#Standardization\" data-toc-modified-id=\"Standardization-3.3.4\"><span class=\"toc-item-num\">3.3.4&nbsp;&nbsp;</span>Standardization</a></span></li><li><span><a href=\"#Model\" data-toc-modified-id=\"Model-3.3.5\"><span class=\"toc-item-num\">3.3.5&nbsp;&nbsp;</span>Model</a></span><ul class=\"toc-item\"><li><span><a href=\"#Cross-validation-on-the-data\" data-toc-modified-id=\"Cross-validation-on-the-data-3.3.5.1\"><span class=\"toc-item-num\">3.3.5.1&nbsp;&nbsp;</span>Cross-validation on the data</a></span></li><li><span><a href=\"#Train-on-full-data\" data-toc-modified-id=\"Train-on-full-data-3.3.5.2\"><span class=\"toc-item-num\">3.3.5.2&nbsp;&nbsp;</span>Train on full data</a></span></li><li><span><a href=\"#Feature-importance-on-a-RF-model\" data-toc-modified-id=\"Feature-importance-on-a-RF-model-3.3.5.3\"><span class=\"toc-item-num\">3.3.5.3&nbsp;&nbsp;</span>Feature importance on a RF model</a></span></li><li><span><a href=\"#Visualization\" data-toc-modified-id=\"Visualization-3.3.5.4\"><span class=\"toc-item-num\">3.3.5.4&nbsp;&nbsp;</span>Visualization</a></span></li></ul></li><li><span><a href=\"#Apply-on-test-set\" data-toc-modified-id=\"Apply-on-test-set-3.3.6\"><span class=\"toc-item-num\">3.3.6&nbsp;&nbsp;</span>Apply on test set</a></span></li></ul></li><li><span><a href=\"#Results\" data-toc-modified-id=\"Results-3.4\"><span class=\"toc-item-num\">3.4&nbsp;&nbsp;</span>Results</a></span></li></ul></li><li><span><a href=\"#Conclusion\" data-toc-modified-id=\"Conclusion-4\"><span class=\"toc-item-num\">4&nbsp;&nbsp;</span>Conclusion</a></span><ul class=\"toc-item\"><li><span><a href=\"#Improvements\" data-toc-modified-id=\"Improvements-4.1\"><span class=\"toc-item-num\">4.1&nbsp;&nbsp;</span>Improvements</a></span></li></ul></li></ul></div>"
   ]
  },
  {
   "cell_type": "markdown",
   "metadata": {},
   "source": [
    "## Import & Data loading"
   ]
  },
  {
   "cell_type": "code",
   "execution_count": 1,
   "metadata": {},
   "outputs": [],
   "source": [
    "import numpy as np\n",
    "import pandas as pd\n",
    "import os\n",
    "from PIL import Image\n",
    "import matplotlib.pyplot as plt\n",
    "\n",
    "import sklearn\n",
    "import sklearn.linear_model\n",
    "import sklearn.metrics\n",
    "import sklearn.model_selection\n",
    "from sklearn.ensemble import RandomForestClassifier\n",
    "\n",
    "import xgboost as xgb"
   ]
  },
  {
   "cell_type": "code",
   "execution_count": 2,
   "metadata": {},
   "outputs": [],
   "source": [
    "train_directory = \"data/train_input/\"\n",
    "test_directory = \"data/test_input/\"\n",
    "res_directory = \"data/train_input/resnet_features/\""
   ]
  },
  {
   "cell_type": "code",
   "execution_count": 3,
   "metadata": {},
   "outputs": [
    {
     "name": "stdout",
     "output_type": "stream",
     "text": [
      "Shape :  (10124, 2)\n"
     ]
    },
    {
     "data": {
      "text/html": [
       "<div>\n",
       "<style scoped>\n",
       "    .dataframe tbody tr th:only-of-type {\n",
       "        vertical-align: middle;\n",
       "    }\n",
       "\n",
       "    .dataframe tbody tr th {\n",
       "        vertical-align: top;\n",
       "    }\n",
       "\n",
       "    .dataframe thead th {\n",
       "        text-align: right;\n",
       "    }\n",
       "</style>\n",
       "<table border=\"1\" class=\"dataframe\">\n",
       "  <thead>\n",
       "    <tr style=\"text-align: right;\">\n",
       "      <th></th>\n",
       "      <th>Info</th>\n",
       "      <th>Target</th>\n",
       "    </tr>\n",
       "  </thead>\n",
       "  <tbody>\n",
       "    <tr>\n",
       "      <td>0</td>\n",
       "      <td>ID_387_annotated_tile_0_15_69_30.jpg</td>\n",
       "      <td>0.0</td>\n",
       "    </tr>\n",
       "    <tr>\n",
       "      <td>1</td>\n",
       "      <td>ID_387_annotated_tile_1_15_23_53.jpg</td>\n",
       "      <td>0.0</td>\n",
       "    </tr>\n",
       "    <tr>\n",
       "      <td>2</td>\n",
       "      <td>ID_387_annotated_tile_2_15_58_20.jpg</td>\n",
       "      <td>0.0</td>\n",
       "    </tr>\n",
       "    <tr>\n",
       "      <td>3</td>\n",
       "      <td>ID_387_annotated_tile_3_15_67_12.jpg</td>\n",
       "      <td>0.0</td>\n",
       "    </tr>\n",
       "    <tr>\n",
       "      <td>4</td>\n",
       "      <td>ID_387_annotated_tile_4_15_57_20.jpg</td>\n",
       "      <td>0.0</td>\n",
       "    </tr>\n",
       "  </tbody>\n",
       "</table>\n",
       "</div>"
      ],
      "text/plain": [
       "                                   Info  Target\n",
       "0  ID_387_annotated_tile_0_15_69_30.jpg     0.0\n",
       "1  ID_387_annotated_tile_1_15_23_53.jpg     0.0\n",
       "2  ID_387_annotated_tile_2_15_58_20.jpg     0.0\n",
       "3  ID_387_annotated_tile_3_15_67_12.jpg     0.0\n",
       "4  ID_387_annotated_tile_4_15_57_20.jpg     0.0"
      ]
     },
     "execution_count": 3,
     "metadata": {},
     "output_type": "execute_result"
    }
   ],
   "source": [
    "annot = pd.read_csv(train_directory + 'train_tile_annotations.csv')\n",
    "annot.columns = ['Info', 'Target']\n",
    "print(\"Shape : \", annot.shape)\n",
    "annot.head()"
   ]
  },
  {
   "cell_type": "code",
   "execution_count": 4,
   "metadata": {},
   "outputs": [
    {
     "data": {
      "text/plain": [
       "0.0    9417\n",
       "1.0     707\n",
       "Name: Target, dtype: int64"
      ]
     },
     "execution_count": 4,
     "metadata": {},
     "output_type": "execute_result"
    }
   ],
   "source": [
    "annot.Target.value_counts()"
   ]
  },
  {
   "cell_type": "code",
   "execution_count": 5,
   "metadata": {},
   "outputs": [
    {
     "name": "stdout",
     "output_type": "stream",
     "text": [
      "Shape :  (279, 2)\n"
     ]
    },
    {
     "data": {
      "text/html": [
       "<div>\n",
       "<style scoped>\n",
       "    .dataframe tbody tr th:only-of-type {\n",
       "        vertical-align: middle;\n",
       "    }\n",
       "\n",
       "    .dataframe tbody tr th {\n",
       "        vertical-align: top;\n",
       "    }\n",
       "\n",
       "    .dataframe thead th {\n",
       "        text-align: right;\n",
       "    }\n",
       "</style>\n",
       "<table border=\"1\" class=\"dataframe\">\n",
       "  <thead>\n",
       "    <tr style=\"text-align: right;\">\n",
       "      <th></th>\n",
       "      <th>ID</th>\n",
       "      <th>Target</th>\n",
       "    </tr>\n",
       "  </thead>\n",
       "  <tbody>\n",
       "    <tr>\n",
       "      <td>0</td>\n",
       "      <td>1</td>\n",
       "      <td>0</td>\n",
       "    </tr>\n",
       "    <tr>\n",
       "      <td>1</td>\n",
       "      <td>2</td>\n",
       "      <td>0</td>\n",
       "    </tr>\n",
       "    <tr>\n",
       "      <td>2</td>\n",
       "      <td>3</td>\n",
       "      <td>0</td>\n",
       "    </tr>\n",
       "    <tr>\n",
       "      <td>3</td>\n",
       "      <td>5</td>\n",
       "      <td>0</td>\n",
       "    </tr>\n",
       "    <tr>\n",
       "      <td>4</td>\n",
       "      <td>6</td>\n",
       "      <td>0</td>\n",
       "    </tr>\n",
       "  </tbody>\n",
       "</table>\n",
       "</div>"
      ],
      "text/plain": [
       "   ID  Target\n",
       "0   1       0\n",
       "1   2       0\n",
       "2   3       0\n",
       "3   5       0\n",
       "4   6       0"
      ]
     },
     "execution_count": 5,
     "metadata": {},
     "output_type": "execute_result"
    }
   ],
   "source": [
    "train_output = pd.read_csv(train_directory + 'training_output.csv')\n",
    "print(\"Shape : \", train_output.shape)\n",
    "train_output.head()"
   ]
  },
  {
   "cell_type": "code",
   "execution_count": 6,
   "metadata": {},
   "outputs": [
    {
     "data": {
      "text/plain": [
       "0    167\n",
       "1    112\n",
       "Name: Target, dtype: int64"
      ]
     },
     "execution_count": 6,
     "metadata": {},
     "output_type": "execute_result"
    }
   ],
   "source": [
    "train_output.Target.value_counts()"
   ]
  },
  {
   "cell_type": "markdown",
   "metadata": {},
   "source": [
    "## Averaging ResNet Features  \n",
    "\n",
    "The first thing I wanted to try was to reproduce the reasoning behind the baseline model, which is to average the ResNet features. I wanted to see the results using other models."
   ]
  },
  {
   "cell_type": "code",
   "execution_count": 7,
   "metadata": {},
   "outputs": [],
   "source": [
    "def get_average_features(filenames):\n",
    "    \"\"\"Load and aggregate the resnet features by the average.\n",
    "\n",
    "    Args:\n",
    "        filenames: list of filenames of length `num_patients` corresponding to resnet features\n",
    "\n",
    "    Returns:\n",
    "        features: np.array of mean resnet features, shape `(num_patients, 2048)`\n",
    "    \"\"\"\n",
    "    # Load numpy arrays\n",
    "    features = []\n",
    "    for f in filenames:\n",
    "        patient_features = np.load(res_directory + f)\n",
    "\n",
    "        # Remove location features (but we could use them?)\n",
    "        patient_features = patient_features[:, 3:]\n",
    "\n",
    "        aggregated_features = np.mean(patient_features, axis=0)\n",
    "        features.append(aggregated_features)\n",
    "\n",
    "    features = np.stack(features, axis=0)\n",
    "    return features"
   ]
  },
  {
   "cell_type": "code",
   "execution_count": 8,
   "metadata": {},
   "outputs": [
    {
     "data": {
      "text/plain": [
       "True"
      ]
     },
     "execution_count": 8,
     "metadata": {},
     "output_type": "execute_result"
    }
   ],
   "source": [
    "# Just making sure the IDs are sorted in the output dataframe\n",
    "train_output['ID'].is_monotonic"
   ]
  },
  {
   "cell_type": "code",
   "execution_count": 9,
   "metadata": {},
   "outputs": [],
   "source": [
    "filenames = [file for file in os.listdir(res_directory)]\n",
    "features_train = get_average_features(filenames)"
   ]
  },
  {
   "cell_type": "code",
   "execution_count": 10,
   "metadata": {},
   "outputs": [],
   "source": [
    "labels_train = np.array(train_output.Target)"
   ]
  },
  {
   "cell_type": "markdown",
   "metadata": {},
   "source": [
    "### Baseline (Logistic Regression)"
   ]
  },
  {
   "cell_type": "code",
   "execution_count": 11,
   "metadata": {},
   "outputs": [
    {
     "name": "stdout",
     "output_type": "stream",
     "text": [
      "Predicting weak labels by mean resnet\n",
      "AUC: mean 0.7155126010159724, std 0.0693559306375653\n"
     ]
    }
   ],
   "source": [
    "aucs = []\n",
    "for seed in range(42,43):\n",
    "    # Use logistic regression with L2 penalty\n",
    "    estimator = sklearn.linear_model.LogisticRegression(penalty=\"l2\", C=1.0, solver=\"liblinear\")\n",
    "\n",
    "    cv = sklearn.model_selection.StratifiedKFold(n_splits=5, shuffle=True,\n",
    "                                                 random_state=seed)\n",
    "\n",
    "    # Cross validation on the training set\n",
    "    auc = sklearn.model_selection.cross_val_score(estimator, X=features_train, y=labels_train,\n",
    "                                                  cv=cv, scoring=\"roc_auc\", verbose=0)\n",
    "\n",
    "    aucs.append(auc)\n",
    "\n",
    "aucs = np.array(aucs)\n",
    "\n",
    "print(\"Predicting weak labels by mean resnet\")\n",
    "print(\"AUC: mean {}, std {}\".format(aucs.mean(), aucs.std()))"
   ]
  },
  {
   "cell_type": "code",
   "execution_count": 12,
   "metadata": {},
   "outputs": [
    {
     "data": {
      "text/plain": [
       "array([[0.63368984, 0.6644385 , 0.7483531 , 0.83135705, 0.69972452]])"
      ]
     },
     "execution_count": 12,
     "metadata": {},
     "output_type": "execute_result"
    }
   ],
   "source": [
    "aucs"
   ]
  },
  {
   "cell_type": "markdown",
   "metadata": {},
   "source": [
    "### XGBoost"
   ]
  },
  {
   "cell_type": "code",
   "execution_count": 13,
   "metadata": {},
   "outputs": [
    {
     "name": "stdout",
     "output_type": "stream",
     "text": [
      "Predicting weak labels by mean resnet\n",
      "AUC: mean 0.6885241628092128, std 0.0840255206402196\n"
     ]
    }
   ],
   "source": [
    "aucs = []\n",
    "for seed in range(42,43):\n",
    "    estimator = xgb.XGBClassifier()\n",
    "\n",
    "    cv = sklearn.model_selection.StratifiedKFold(n_splits=5, shuffle=True,\n",
    "                                                 random_state=seed)\n",
    "\n",
    "    auc = sklearn.model_selection.cross_val_score(estimator, X=features_train, y=labels_train,\n",
    "                                                  cv=cv, scoring=\"roc_auc\", verbose=0)\n",
    "\n",
    "    aucs.append(auc)\n",
    "\n",
    "aucs = np.array(aucs)\n",
    "\n",
    "print(\"Predicting weak labels by mean resnet\")\n",
    "print(\"AUC: mean {}, std {}\".format(aucs.mean(), aucs.std()))"
   ]
  },
  {
   "cell_type": "code",
   "execution_count": 14,
   "metadata": {},
   "outputs": [
    {
     "data": {
      "text/plain": [
       "array([[0.57486631, 0.75935829, 0.6969697 , 0.79710145, 0.61432507]])"
      ]
     },
     "execution_count": 14,
     "metadata": {},
     "output_type": "execute_result"
    }
   ],
   "source": [
    "aucs"
   ]
  },
  {
   "cell_type": "markdown",
   "metadata": {},
   "source": [
    "### Feature importances using RF model"
   ]
  },
  {
   "cell_type": "code",
   "execution_count": 15,
   "metadata": {},
   "outputs": [
    {
     "name": "stdout",
     "output_type": "stream",
     "text": [
      "Predicting weak labels by mean resnet\n",
      "AUC: mean 0.6800492133612338, std 0.05865537059745238\n"
     ]
    }
   ],
   "source": [
    "aucs = []\n",
    "for seed in range(42,43):\n",
    "    estimator = RandomForestClassifier()\n",
    "\n",
    "    cv = sklearn.model_selection.StratifiedKFold(n_splits=5, shuffle=True,\n",
    "                                                 random_state=seed)\n",
    "\n",
    "    auc = sklearn.model_selection.cross_val_score(estimator, X=features_train, y=labels_train,\n",
    "                                                  cv=cv, scoring=\"roc_auc\", verbose=0)\n",
    "\n",
    "    aucs.append(auc)\n",
    "\n",
    "aucs = np.array(aucs)\n",
    "\n",
    "print(\"Predicting weak labels by mean resnet\")\n",
    "print(\"AUC: mean {}, std {}\".format(aucs.mean(), aucs.std()))"
   ]
  },
  {
   "cell_type": "code",
   "execution_count": 16,
   "metadata": {},
   "outputs": [
    {
     "data": {
      "text/plain": [
       "array([[0.65173797, 0.60160428, 0.73583663, 0.75955204, 0.65151515]])"
      ]
     },
     "execution_count": 16,
     "metadata": {},
     "output_type": "execute_result"
    }
   ],
   "source": [
    "aucs"
   ]
  },
  {
   "cell_type": "code",
   "execution_count": 17,
   "metadata": {},
   "outputs": [
    {
     "data": {
      "text/plain": [
       "RandomForestClassifier(bootstrap=True, ccp_alpha=0.0, class_weight=None,\n",
       "                       criterion='gini', max_depth=None, max_features='auto',\n",
       "                       max_leaf_nodes=None, max_samples=None,\n",
       "                       min_impurity_decrease=0.0, min_impurity_split=None,\n",
       "                       min_samples_leaf=1, min_samples_split=2,\n",
       "                       min_weight_fraction_leaf=0.0, n_estimators=100,\n",
       "                       n_jobs=None, oob_score=False, random_state=None,\n",
       "                       verbose=0, warm_start=False)"
      ]
     },
     "execution_count": 17,
     "metadata": {},
     "output_type": "execute_result"
    }
   ],
   "source": [
    "forest = RandomForestClassifier()\n",
    "forest.fit(features_train, labels_train)"
   ]
  },
  {
   "cell_type": "code",
   "execution_count": 18,
   "metadata": {},
   "outputs": [
    {
     "data": {
      "text/plain": [
       "<matplotlib.axes._subplots.AxesSubplot at 0x222c338b108>"
      ]
     },
     "execution_count": 18,
     "metadata": {},
     "output_type": "execute_result"
    },
    {
     "data": {
      "image/png": "[encoded data removed]",
      "text/plain": [
       "<Figure size 432x288 with 1 Axes>"
      ]
     },
     "metadata": {
      "needs_background": "light"
     },
     "output_type": "display_data"
    }
   ],
   "source": [
    "feat_importances = pd.Series(forest.feature_importances_)\n",
    "feat_importances.nlargest(20).plot(kind='barh')"
   ]
  },
  {
   "cell_type": "markdown",
   "metadata": {},
   "source": [
    "We approximately get the same results using other classifiers."
   ]
  },
  {
   "cell_type": "markdown",
   "metadata": {},
   "source": [
    "## Using Tiles\n",
    "\n",
    "Instead of averaging the ResNet features, I thought of using the annotated patients to make predictions much more accurate. Since we have 11 000 tiles annotated, we can definitely make use of them to make predictions on tiles themselves (instead of predicting on the average features of those tiles). \n",
    "\n",
    "The idea is the following : \n",
    "\n",
    "- Build a model on the 11 annotated patients to predict if a **tile** contains a metastase. We'll call it **_tile_classifier_**.\n",
    "- Load the other 268 patients.\n",
    "- For each patient, make predictions on each tile using **_tile_classifier_**. Each patient is then characterized by an array of ~ 1000 predictions (or less since some patients have less tiles).\n",
    "- Build a model, based on the predictions, to predict if a **patient** has any metastase in its lymph node or not.\n",
    "- Use **_tile_classifier_** on the test set and then use the second model on those predictions.  \n",
    "\n",
    "For both models I will use a simple Logistic Regression, just like the baseline model. My objective wasn't to find the \"best\" model with the \"best\" paramaters, but to make better use of the data available."
   ]
  },
  {
   "cell_type": "markdown",
   "metadata": {},
   "source": [
    "### Loading train tiles data\n",
    "\n",
    "_Note : I chose to keep and make use of the tiles coordinates._"
   ]
  },
  {
   "cell_type": "code",
   "execution_count": 19,
   "metadata": {},
   "outputs": [],
   "source": [
    "annot['ID'] = annot.Info.str[0:6]\n",
    "annot['X_coord'] =  annot.Info.str.split('_').str[6]\n",
    "annot['Y_coord'] = annot.Info.str.split('_').str[7].str[:-4]\n",
    "\n",
    "annot['X_coord'] = annot['X_coord'].astype(float)\n",
    "annot['Y_coord'] = annot['Y_coord'].astype(float)"
   ]
  },
  {
   "cell_type": "code",
   "execution_count": 20,
   "metadata": {},
   "outputs": [
    {
     "data": {
      "text/html": [
       "<div>\n",
       "<style scoped>\n",
       "    .dataframe tbody tr th:only-of-type {\n",
       "        vertical-align: middle;\n",
       "    }\n",
       "\n",
       "    .dataframe tbody tr th {\n",
       "        vertical-align: top;\n",
       "    }\n",
       "\n",
       "    .dataframe thead th {\n",
       "        text-align: right;\n",
       "    }\n",
       "</style>\n",
       "<table border=\"1\" class=\"dataframe\">\n",
       "  <thead>\n",
       "    <tr style=\"text-align: right;\">\n",
       "      <th></th>\n",
       "      <th>Info</th>\n",
       "      <th>Target</th>\n",
       "      <th>ID</th>\n",
       "      <th>X_coord</th>\n",
       "      <th>Y_coord</th>\n",
       "    </tr>\n",
       "  </thead>\n",
       "  <tbody>\n",
       "    <tr>\n",
       "      <td>0</td>\n",
       "      <td>ID_387_annotated_tile_0_15_69_30.jpg</td>\n",
       "      <td>0.0</td>\n",
       "      <td>ID_387</td>\n",
       "      <td>69.0</td>\n",
       "      <td>30.0</td>\n",
       "    </tr>\n",
       "    <tr>\n",
       "      <td>1</td>\n",
       "      <td>ID_387_annotated_tile_1_15_23_53.jpg</td>\n",
       "      <td>0.0</td>\n",
       "      <td>ID_387</td>\n",
       "      <td>23.0</td>\n",
       "      <td>53.0</td>\n",
       "    </tr>\n",
       "    <tr>\n",
       "      <td>2</td>\n",
       "      <td>ID_387_annotated_tile_2_15_58_20.jpg</td>\n",
       "      <td>0.0</td>\n",
       "      <td>ID_387</td>\n",
       "      <td>58.0</td>\n",
       "      <td>20.0</td>\n",
       "    </tr>\n",
       "    <tr>\n",
       "      <td>3</td>\n",
       "      <td>ID_387_annotated_tile_3_15_67_12.jpg</td>\n",
       "      <td>0.0</td>\n",
       "      <td>ID_387</td>\n",
       "      <td>67.0</td>\n",
       "      <td>12.0</td>\n",
       "    </tr>\n",
       "    <tr>\n",
       "      <td>4</td>\n",
       "      <td>ID_387_annotated_tile_4_15_57_20.jpg</td>\n",
       "      <td>0.0</td>\n",
       "      <td>ID_387</td>\n",
       "      <td>57.0</td>\n",
       "      <td>20.0</td>\n",
       "    </tr>\n",
       "  </tbody>\n",
       "</table>\n",
       "</div>"
      ],
      "text/plain": [
       "                                   Info  Target      ID  X_coord  Y_coord\n",
       "0  ID_387_annotated_tile_0_15_69_30.jpg     0.0  ID_387     69.0     30.0\n",
       "1  ID_387_annotated_tile_1_15_23_53.jpg     0.0  ID_387     23.0     53.0\n",
       "2  ID_387_annotated_tile_2_15_58_20.jpg     0.0  ID_387     58.0     20.0\n",
       "3  ID_387_annotated_tile_3_15_67_12.jpg     0.0  ID_387     67.0     12.0\n",
       "4  ID_387_annotated_tile_4_15_57_20.jpg     0.0  ID_387     57.0     20.0"
      ]
     },
     "execution_count": 20,
     "metadata": {},
     "output_type": "execute_result"
    }
   ],
   "source": [
    "annot.head()"
   ]
  },
  {
   "cell_type": "code",
   "execution_count": 21,
   "metadata": {},
   "outputs": [],
   "source": [
    "def load_tiles(IDs):\n",
    "    data = []\n",
    "    for ID in IDs:\n",
    "        patient = np.load(res_directory + ID + '_annotated.npy')\n",
    "        patient = patient[:, 1:]\n",
    "        data.append(patient)\n",
    "    data = np.concatenate(data, axis=0)\n",
    "    data = pd.DataFrame(data)\n",
    "    data.rename(columns={0: \"Coord_x\", 1: \"Coord_y\"}, inplace=True)\n",
    "    return data"
   ]
  },
  {
   "cell_type": "code",
   "execution_count": 22,
   "metadata": {},
   "outputs": [
    {
     "name": "stdout",
     "output_type": "stream",
     "text": [
      "(10124, 2050)\n"
     ]
    },
    {
     "data": {
      "text/html": [
       "<div>\n",
       "<style scoped>\n",
       "    .dataframe tbody tr th:only-of-type {\n",
       "        vertical-align: middle;\n",
       "    }\n",
       "\n",
       "    .dataframe tbody tr th {\n",
       "        vertical-align: top;\n",
       "    }\n",
       "\n",
       "    .dataframe thead th {\n",
       "        text-align: right;\n",
       "    }\n",
       "</style>\n",
       "<table border=\"1\" class=\"dataframe\">\n",
       "  <thead>\n",
       "    <tr style=\"text-align: right;\">\n",
       "      <th></th>\n",
       "      <th>Coord_x</th>\n",
       "      <th>Coord_y</th>\n",
       "      <th>2</th>\n",
       "      <th>3</th>\n",
       "      <th>4</th>\n",
       "      <th>5</th>\n",
       "      <th>6</th>\n",
       "      <th>7</th>\n",
       "      <th>8</th>\n",
       "      <th>9</th>\n",
       "      <th>...</th>\n",
       "      <th>2040</th>\n",
       "      <th>2041</th>\n",
       "      <th>2042</th>\n",
       "      <th>2043</th>\n",
       "      <th>2044</th>\n",
       "      <th>2045</th>\n",
       "      <th>2046</th>\n",
       "      <th>2047</th>\n",
       "      <th>2048</th>\n",
       "      <th>2049</th>\n",
       "    </tr>\n",
       "  </thead>\n",
       "  <tbody>\n",
       "    <tr>\n",
       "      <td>0</td>\n",
       "      <td>69.0</td>\n",
       "      <td>30.0</td>\n",
       "      <td>1.414122</td>\n",
       "      <td>0.676988</td>\n",
       "      <td>0.000000</td>\n",
       "      <td>0.003139</td>\n",
       "      <td>0.006868</td>\n",
       "      <td>0.107312</td>\n",
       "      <td>0.110727</td>\n",
       "      <td>0.0</td>\n",
       "      <td>...</td>\n",
       "      <td>0.076402</td>\n",
       "      <td>0.000000</td>\n",
       "      <td>0.000000</td>\n",
       "      <td>0.016007</td>\n",
       "      <td>0.168164</td>\n",
       "      <td>0.0</td>\n",
       "      <td>0.000000</td>\n",
       "      <td>5.042528</td>\n",
       "      <td>1.282534</td>\n",
       "      <td>0.041764</td>\n",
       "    </tr>\n",
       "    <tr>\n",
       "      <td>1</td>\n",
       "      <td>23.0</td>\n",
       "      <td>53.0</td>\n",
       "      <td>0.444906</td>\n",
       "      <td>1.801952</td>\n",
       "      <td>0.211628</td>\n",
       "      <td>0.043701</td>\n",
       "      <td>0.161008</td>\n",
       "      <td>0.837296</td>\n",
       "      <td>0.030582</td>\n",
       "      <td>0.0</td>\n",
       "      <td>...</td>\n",
       "      <td>0.105955</td>\n",
       "      <td>0.356565</td>\n",
       "      <td>0.000000</td>\n",
       "      <td>0.083840</td>\n",
       "      <td>0.175326</td>\n",
       "      <td>0.0</td>\n",
       "      <td>0.009897</td>\n",
       "      <td>1.371318</td>\n",
       "      <td>0.583364</td>\n",
       "      <td>0.000860</td>\n",
       "    </tr>\n",
       "    <tr>\n",
       "      <td>2</td>\n",
       "      <td>58.0</td>\n",
       "      <td>20.0</td>\n",
       "      <td>1.063327</td>\n",
       "      <td>0.003382</td>\n",
       "      <td>0.599520</td>\n",
       "      <td>0.000000</td>\n",
       "      <td>0.000000</td>\n",
       "      <td>0.255530</td>\n",
       "      <td>0.007793</td>\n",
       "      <td>0.0</td>\n",
       "      <td>...</td>\n",
       "      <td>0.120413</td>\n",
       "      <td>0.014894</td>\n",
       "      <td>0.000000</td>\n",
       "      <td>0.033674</td>\n",
       "      <td>0.000000</td>\n",
       "      <td>0.0</td>\n",
       "      <td>0.013897</td>\n",
       "      <td>0.021275</td>\n",
       "      <td>0.000000</td>\n",
       "      <td>0.000000</td>\n",
       "    </tr>\n",
       "    <tr>\n",
       "      <td>3</td>\n",
       "      <td>67.0</td>\n",
       "      <td>12.0</td>\n",
       "      <td>0.349135</td>\n",
       "      <td>0.000000</td>\n",
       "      <td>0.325726</td>\n",
       "      <td>0.000000</td>\n",
       "      <td>0.181404</td>\n",
       "      <td>0.006151</td>\n",
       "      <td>0.000000</td>\n",
       "      <td>0.0</td>\n",
       "      <td>...</td>\n",
       "      <td>0.151650</td>\n",
       "      <td>0.000000</td>\n",
       "      <td>0.021141</td>\n",
       "      <td>0.055808</td>\n",
       "      <td>0.000000</td>\n",
       "      <td>0.0</td>\n",
       "      <td>0.000000</td>\n",
       "      <td>0.261275</td>\n",
       "      <td>0.000000</td>\n",
       "      <td>0.023108</td>\n",
       "    </tr>\n",
       "    <tr>\n",
       "      <td>4</td>\n",
       "      <td>57.0</td>\n",
       "      <td>20.0</td>\n",
       "      <td>0.454522</td>\n",
       "      <td>0.000000</td>\n",
       "      <td>0.016670</td>\n",
       "      <td>0.000000</td>\n",
       "      <td>0.384957</td>\n",
       "      <td>0.151944</td>\n",
       "      <td>0.000000</td>\n",
       "      <td>0.0</td>\n",
       "      <td>...</td>\n",
       "      <td>0.005902</td>\n",
       "      <td>0.000000</td>\n",
       "      <td>0.000000</td>\n",
       "      <td>0.004038</td>\n",
       "      <td>0.000000</td>\n",
       "      <td>0.0</td>\n",
       "      <td>0.000000</td>\n",
       "      <td>0.265646</td>\n",
       "      <td>0.000000</td>\n",
       "      <td>0.043415</td>\n",
       "    </tr>\n",
       "  </tbody>\n",
       "</table>\n",
       "<p>5 rows × 2050 columns</p>\n",
       "</div>"
      ],
      "text/plain": [
       "   Coord_x  Coord_y         2         3         4         5         6  \\\n",
       "0     69.0     30.0  1.414122  0.676988  0.000000  0.003139  0.006868   \n",
       "1     23.0     53.0  0.444906  1.801952  0.211628  0.043701  0.161008   \n",
       "2     58.0     20.0  1.063327  0.003382  0.599520  0.000000  0.000000   \n",
       "3     67.0     12.0  0.349135  0.000000  0.325726  0.000000  0.181404   \n",
       "4     57.0     20.0  0.454522  0.000000  0.016670  0.000000  0.384957   \n",
       "\n",
       "          7         8    9  ...      2040      2041      2042      2043  \\\n",
       "0  0.107312  0.110727  0.0  ...  0.076402  0.000000  0.000000  0.016007   \n",
       "1  0.837296  0.030582  0.0  ...  0.105955  0.356565  0.000000  0.083840   \n",
       "2  0.255530  0.007793  0.0  ...  0.120413  0.014894  0.000000  0.033674   \n",
       "3  0.006151  0.000000  0.0  ...  0.151650  0.000000  0.021141  0.055808   \n",
       "4  0.151944  0.000000  0.0  ...  0.005902  0.000000  0.000000  0.004038   \n",
       "\n",
       "       2044  2045      2046      2047      2048      2049  \n",
       "0  0.168164   0.0  0.000000  5.042528  1.282534  0.041764  \n",
       "1  0.175326   0.0  0.009897  1.371318  0.583364  0.000860  \n",
       "2  0.000000   0.0  0.013897  0.021275  0.000000  0.000000  \n",
       "3  0.000000   0.0  0.000000  0.261275  0.000000  0.023108  \n",
       "4  0.000000   0.0  0.000000  0.265646  0.000000  0.043415  \n",
       "\n",
       "[5 rows x 2050 columns]"
      ]
     },
     "execution_count": 22,
     "metadata": {},
     "output_type": "execute_result"
    }
   ],
   "source": [
    "# I'm using the order of the IDs in the annotation.csv to load each patient. (Patients in annotations.csv are not sorted by ID)\n",
    "ID_order = list(annot.ID.unique())\n",
    "tiles_features = load_tiles(ID_order)\n",
    "print(tiles_features.shape)\n",
    "tiles_features.head()"
   ]
  },
  {
   "cell_type": "code",
   "execution_count": 23,
   "metadata": {},
   "outputs": [
    {
     "name": "stdout",
     "output_type": "stream",
     "text": [
      "(10124, 2053)\n"
     ]
    },
    {
     "data": {
      "text/html": [
       "<div>\n",
       "<style scoped>\n",
       "    .dataframe tbody tr th:only-of-type {\n",
       "        vertical-align: middle;\n",
       "    }\n",
       "\n",
       "    .dataframe tbody tr th {\n",
       "        vertical-align: top;\n",
       "    }\n",
       "\n",
       "    .dataframe thead th {\n",
       "        text-align: right;\n",
       "    }\n",
       "</style>\n",
       "<table border=\"1\" class=\"dataframe\">\n",
       "  <thead>\n",
       "    <tr style=\"text-align: right;\">\n",
       "      <th></th>\n",
       "      <th>Coord_x</th>\n",
       "      <th>Coord_y</th>\n",
       "      <th>2</th>\n",
       "      <th>3</th>\n",
       "      <th>4</th>\n",
       "      <th>5</th>\n",
       "      <th>6</th>\n",
       "      <th>7</th>\n",
       "      <th>8</th>\n",
       "      <th>9</th>\n",
       "      <th>...</th>\n",
       "      <th>2043</th>\n",
       "      <th>2044</th>\n",
       "      <th>2045</th>\n",
       "      <th>2046</th>\n",
       "      <th>2047</th>\n",
       "      <th>2048</th>\n",
       "      <th>2049</th>\n",
       "      <th>Target</th>\n",
       "      <th>X_coord</th>\n",
       "      <th>Y_coord</th>\n",
       "    </tr>\n",
       "  </thead>\n",
       "  <tbody>\n",
       "    <tr>\n",
       "      <td>0</td>\n",
       "      <td>69.0</td>\n",
       "      <td>30.0</td>\n",
       "      <td>1.414122</td>\n",
       "      <td>0.676988</td>\n",
       "      <td>0.000000</td>\n",
       "      <td>0.003139</td>\n",
       "      <td>0.006868</td>\n",
       "      <td>0.107312</td>\n",
       "      <td>0.110727</td>\n",
       "      <td>0.0</td>\n",
       "      <td>...</td>\n",
       "      <td>0.016007</td>\n",
       "      <td>0.168164</td>\n",
       "      <td>0.0</td>\n",
       "      <td>0.000000</td>\n",
       "      <td>5.042528</td>\n",
       "      <td>1.282534</td>\n",
       "      <td>0.041764</td>\n",
       "      <td>0.0</td>\n",
       "      <td>69.0</td>\n",
       "      <td>30.0</td>\n",
       "    </tr>\n",
       "    <tr>\n",
       "      <td>1</td>\n",
       "      <td>23.0</td>\n",
       "      <td>53.0</td>\n",
       "      <td>0.444906</td>\n",
       "      <td>1.801952</td>\n",
       "      <td>0.211628</td>\n",
       "      <td>0.043701</td>\n",
       "      <td>0.161008</td>\n",
       "      <td>0.837296</td>\n",
       "      <td>0.030582</td>\n",
       "      <td>0.0</td>\n",
       "      <td>...</td>\n",
       "      <td>0.083840</td>\n",
       "      <td>0.175326</td>\n",
       "      <td>0.0</td>\n",
       "      <td>0.009897</td>\n",
       "      <td>1.371318</td>\n",
       "      <td>0.583364</td>\n",
       "      <td>0.000860</td>\n",
       "      <td>0.0</td>\n",
       "      <td>23.0</td>\n",
       "      <td>53.0</td>\n",
       "    </tr>\n",
       "    <tr>\n",
       "      <td>2</td>\n",
       "      <td>58.0</td>\n",
       "      <td>20.0</td>\n",
       "      <td>1.063327</td>\n",
       "      <td>0.003382</td>\n",
       "      <td>0.599520</td>\n",
       "      <td>0.000000</td>\n",
       "      <td>0.000000</td>\n",
       "      <td>0.255530</td>\n",
       "      <td>0.007793</td>\n",
       "      <td>0.0</td>\n",
       "      <td>...</td>\n",
       "      <td>0.033674</td>\n",
       "      <td>0.000000</td>\n",
       "      <td>0.0</td>\n",
       "      <td>0.013897</td>\n",
       "      <td>0.021275</td>\n",
       "      <td>0.000000</td>\n",
       "      <td>0.000000</td>\n",
       "      <td>0.0</td>\n",
       "      <td>58.0</td>\n",
       "      <td>20.0</td>\n",
       "    </tr>\n",
       "    <tr>\n",
       "      <td>3</td>\n",
       "      <td>67.0</td>\n",
       "      <td>12.0</td>\n",
       "      <td>0.349135</td>\n",
       "      <td>0.000000</td>\n",
       "      <td>0.325726</td>\n",
       "      <td>0.000000</td>\n",
       "      <td>0.181404</td>\n",
       "      <td>0.006151</td>\n",
       "      <td>0.000000</td>\n",
       "      <td>0.0</td>\n",
       "      <td>...</td>\n",
       "      <td>0.055808</td>\n",
       "      <td>0.000000</td>\n",
       "      <td>0.0</td>\n",
       "      <td>0.000000</td>\n",
       "      <td>0.261275</td>\n",
       "      <td>0.000000</td>\n",
       "      <td>0.023108</td>\n",
       "      <td>0.0</td>\n",
       "      <td>67.0</td>\n",
       "      <td>12.0</td>\n",
       "    </tr>\n",
       "    <tr>\n",
       "      <td>4</td>\n",
       "      <td>57.0</td>\n",
       "      <td>20.0</td>\n",
       "      <td>0.454522</td>\n",
       "      <td>0.000000</td>\n",
       "      <td>0.016670</td>\n",
       "      <td>0.000000</td>\n",
       "      <td>0.384957</td>\n",
       "      <td>0.151944</td>\n",
       "      <td>0.000000</td>\n",
       "      <td>0.0</td>\n",
       "      <td>...</td>\n",
       "      <td>0.004038</td>\n",
       "      <td>0.000000</td>\n",
       "      <td>0.0</td>\n",
       "      <td>0.000000</td>\n",
       "      <td>0.265646</td>\n",
       "      <td>0.000000</td>\n",
       "      <td>0.043415</td>\n",
       "      <td>0.0</td>\n",
       "      <td>57.0</td>\n",
       "      <td>20.0</td>\n",
       "    </tr>\n",
       "  </tbody>\n",
       "</table>\n",
       "<p>5 rows × 2053 columns</p>\n",
       "</div>"
      ],
      "text/plain": [
       "   Coord_x  Coord_y         2         3         4         5         6  \\\n",
       "0     69.0     30.0  1.414122  0.676988  0.000000  0.003139  0.006868   \n",
       "1     23.0     53.0  0.444906  1.801952  0.211628  0.043701  0.161008   \n",
       "2     58.0     20.0  1.063327  0.003382  0.599520  0.000000  0.000000   \n",
       "3     67.0     12.0  0.349135  0.000000  0.325726  0.000000  0.181404   \n",
       "4     57.0     20.0  0.454522  0.000000  0.016670  0.000000  0.384957   \n",
       "\n",
       "          7         8    9  ...      2043      2044  2045      2046      2047  \\\n",
       "0  0.107312  0.110727  0.0  ...  0.016007  0.168164   0.0  0.000000  5.042528   \n",
       "1  0.837296  0.030582  0.0  ...  0.083840  0.175326   0.0  0.009897  1.371318   \n",
       "2  0.255530  0.007793  0.0  ...  0.033674  0.000000   0.0  0.013897  0.021275   \n",
       "3  0.006151  0.000000  0.0  ...  0.055808  0.000000   0.0  0.000000  0.261275   \n",
       "4  0.151944  0.000000  0.0  ...  0.004038  0.000000   0.0  0.000000  0.265646   \n",
       "\n",
       "       2048      2049  Target  X_coord  Y_coord  \n",
       "0  1.282534  0.041764     0.0     69.0     30.0  \n",
       "1  0.583364  0.000860     0.0     23.0     53.0  \n",
       "2  0.000000  0.000000     0.0     58.0     20.0  \n",
       "3  0.000000  0.023108     0.0     67.0     12.0  \n",
       "4  0.000000  0.043415     0.0     57.0     20.0  \n",
       "\n",
       "[5 rows x 2053 columns]"
      ]
     },
     "execution_count": 23,
     "metadata": {},
     "output_type": "execute_result"
    }
   ],
   "source": [
    "tiles_features = pd.concat([tiles_features, annot[['Target', 'X_coord', 'Y_coord']]], axis=1)\n",
    "print(tiles_features.shape)\n",
    "tiles_features.head()"
   ]
  },
  {
   "cell_type": "markdown",
   "metadata": {},
   "source": [
    "Since I also extracted X & Y from the name of the file, I can compare them to the ones in annotation.csv to make sure I assign the correct Target value to each tile."
   ]
  },
  {
   "cell_type": "code",
   "execution_count": 24,
   "metadata": {},
   "outputs": [
    {
     "name": "stdout",
     "output_type": "stream",
     "text": [
      "True\n",
      "True\n"
     ]
    }
   ],
   "source": [
    "# Checking just to make sure the target values are attributed to the correct tiles.\n",
    "print(tiles_features['Coord_x'].equals(tiles_features['X_coord']))\n",
    "print(tiles_features['Coord_y'].equals(tiles_features['Y_coord']))"
   ]
  },
  {
   "cell_type": "code",
   "execution_count": 25,
   "metadata": {},
   "outputs": [],
   "source": [
    "tiles_labels = np.array(tiles_features.Target)\n",
    "tiles_features.drop(['X_coord', 'Y_coord', 'Target'], axis=1, inplace=True)"
   ]
  },
  {
   "cell_type": "code",
   "execution_count": 26,
   "metadata": {},
   "outputs": [],
   "source": [
    "# Standardization of the coordinates. Their values are much higher than Resnet features so this allows to scale them correctly.\n",
    "coord_mean = tiles_features[['Coord_x', 'Coord_y']].mean()\n",
    "coord_std = tiles_features[['Coord_x', 'Coord_y']].std()\n",
    "\n",
    "tiles_features[['Coord_x', 'Coord_y']] = (tiles_features[['Coord_x', 'Coord_y']] - coord_mean) / coord_std"
   ]
  },
  {
   "cell_type": "markdown",
   "metadata": {},
   "source": [
    "### Model to predict on tiles"
   ]
  },
  {
   "cell_type": "markdown",
   "metadata": {},
   "source": [
    "#### Cross-validation on the data"
   ]
  },
  {
   "cell_type": "code",
   "execution_count": 27,
   "metadata": {},
   "outputs": [
    {
     "name": "stdout",
     "output_type": "stream",
     "text": [
      "Predicting weak labels by mean resnet\n",
      "AUC: mean 0.9492994459569808, std 0.012604627416197573\n"
     ]
    }
   ],
   "source": [
    "aucs = []\n",
    "for seed in range(42,43):\n",
    "    # Use logistic regression with L2 penalty\n",
    "    estimator = sklearn.linear_model.LogisticRegression(penalty=\"l2\", C=1.0, solver=\"liblinear\")\n",
    "\n",
    "    cv = sklearn.model_selection.StratifiedKFold(n_splits=5, shuffle=True,\n",
    "                                                 random_state=seed)\n",
    "\n",
    "    # Cross validation on the training set\n",
    "    auc = sklearn.model_selection.cross_val_score(estimator, X=tiles_features, y=tiles_labels,\n",
    "                                                  cv=cv, scoring=\"roc_auc\", verbose=0)\n",
    "\n",
    "    aucs.append(auc)\n",
    "\n",
    "aucs = np.array(aucs)\n",
    "\n",
    "print(\"Predicting weak labels by mean resnet\")\n",
    "print(\"AUC: mean {}, std {}\".format(aucs.mean(), aucs.std()))"
   ]
  },
  {
   "cell_type": "code",
   "execution_count": 28,
   "metadata": {},
   "outputs": [
    {
     "data": {
      "text/plain": [
       "array([[0.93218367, 0.95618572, 0.93605125, 0.96224185, 0.95983473]])"
      ]
     },
     "execution_count": 28,
     "metadata": {},
     "output_type": "execute_result"
    }
   ],
   "source": [
    "aucs"
   ]
  },
  {
   "cell_type": "markdown",
   "metadata": {},
   "source": [
    "We get a pretty high AUC even though the classes are imbalanced. This is very positive since our whole approach revolves around classifying tiles. If that classifier isn't reliable, then our second model, which works on the predictions of the classifier, will not give good results."
   ]
  },
  {
   "cell_type": "markdown",
   "metadata": {},
   "source": [
    "#### Train a model on the full data"
   ]
  },
  {
   "cell_type": "code",
   "execution_count": 29,
   "metadata": {},
   "outputs": [
    {
     "data": {
      "text/plain": [
       "LogisticRegression(C=1.0, class_weight=None, dual=False, fit_intercept=True,\n",
       "                   intercept_scaling=1, l1_ratio=None, max_iter=100,\n",
       "                   multi_class='auto', n_jobs=None, penalty='l2',\n",
       "                   random_state=None, solver='liblinear', tol=0.0001, verbose=0,\n",
       "                   warm_start=False)"
      ]
     },
     "execution_count": 29,
     "metadata": {},
     "output_type": "execute_result"
    }
   ],
   "source": [
    "estimator = sklearn.linear_model.LogisticRegression(penalty=\"l2\", C=1.0, solver=\"liblinear\")\n",
    "estimator.fit(tiles_features, tiles_labels)"
   ]
  },
  {
   "cell_type": "markdown",
   "metadata": {},
   "source": [
    "When I went through the course [How to Win a Data Science Competition: Learn from Top Kagglers](https://www.coursera.org/learn/competitive-data-science), one of the lesson was about ensembling methods. One thing that caught my mind was the instructor mentioned that when he would participate in competitions, he would usually make submissions using a bagging version of a certain model, not just one model.  \n",
    "That's why I wanted to try it out here and see if it would improve our predictions."
   ]
  },
  {
   "cell_type": "code",
   "execution_count": 30,
   "metadata": {},
   "outputs": [
    {
     "data": {
      "text/plain": [
       "BaggingClassifier(base_estimator=LogisticRegression(C=1.0, class_weight=None,\n",
       "                                                    dual=False,\n",
       "                                                    fit_intercept=True,\n",
       "                                                    intercept_scaling=1,\n",
       "                                                    l1_ratio=None, max_iter=100,\n",
       "                                                    multi_class='auto',\n",
       "                                                    n_jobs=None, penalty='l2',\n",
       "                                                    random_state=None,\n",
       "                                                    solver='liblinear',\n",
       "                                                    tol=0.0001, verbose=0,\n",
       "                                                    warm_start=False),\n",
       "                  bootstrap=True, bootstrap_features=False, max_features=1.0,\n",
       "                  max_samples=1.0, n_estimators=10, n_jobs=None,\n",
       "                  oob_score=False, random_state=42, verbose=0,\n",
       "                  warm_start=False)"
      ]
     },
     "execution_count": 30,
     "metadata": {},
     "output_type": "execute_result"
    }
   ],
   "source": [
    "from sklearn.ensemble import BaggingClassifier\n",
    "tiles_classifier = BaggingClassifier(base_estimator=sklearn.linear_model.LogisticRegression(penalty=\"l2\", C=1.0, solver=\"liblinear\"),n_estimators=10, random_state=42)\n",
    "tiles_classifier.fit(tiles_features, tiles_labels)"
   ]
  },
  {
   "cell_type": "markdown",
   "metadata": {},
   "source": [
    "#### Feature importances on a RF model\n",
    "\n",
    "I was pretty curious whether or not the coordinates were important in making a prediction so I just wanted to see if they would appear as important features in a random forest model. "
   ]
  },
  {
   "cell_type": "code",
   "execution_count": 31,
   "metadata": {},
   "outputs": [
    {
     "data": {
      "text/plain": [
       "RandomForestClassifier(bootstrap=True, ccp_alpha=0.0, class_weight=None,\n",
       "                       criterion='gini', max_depth=None, max_features='auto',\n",
       "                       max_leaf_nodes=None, max_samples=None,\n",
       "                       min_impurity_decrease=0.0, min_impurity_split=None,\n",
       "                       min_samples_leaf=1, min_samples_split=2,\n",
       "                       min_weight_fraction_leaf=0.0, n_estimators=100,\n",
       "                       n_jobs=None, oob_score=False, random_state=None,\n",
       "                       verbose=0, warm_start=False)"
      ]
     },
     "execution_count": 31,
     "metadata": {},
     "output_type": "execute_result"
    }
   ],
   "source": [
    "rf = RandomForestClassifier()\n",
    "rf.fit(tiles_features, tiles_labels)"
   ]
  },
  {
   "cell_type": "code",
   "execution_count": 32,
   "metadata": {},
   "outputs": [
    {
     "data": {
      "text/plain": [
       "<matplotlib.axes._subplots.AxesSubplot at 0x222c460fdc8>"
      ]
     },
     "execution_count": 32,
     "metadata": {},
     "output_type": "execute_result"
    },
    {
     "data": {
      "image/png": "[encoded data removed]",
      "text/plain": [
       "<Figure size 432x288 with 1 Axes>"
      ]
     },
     "metadata": {
      "needs_background": "light"
     },
     "output_type": "display_data"
    }
   ],
   "source": [
    "feat_importances = pd.Series(rf.feature_importances_, index=tiles_features.columns)\n",
    "feat_importances.nlargest(20).plot(kind='barh')"
   ]
  },
  {
   "cell_type": "markdown",
   "metadata": {},
   "source": [
    "### New model based on tiles predictions.  \n",
    "\n",
    "Now comes the second part of our idea : building a model based on the predictions of the rest of the patients.  \n",
    "\n",
    "#### Data"
   ]
  },
  {
   "cell_type": "code",
   "execution_count": 33,
   "metadata": {},
   "outputs": [],
   "source": [
    "files = [file for file in os.listdir(res_directory) if 'annotated' not in file]"
   ]
  },
  {
   "cell_type": "code",
   "execution_count": 34,
   "metadata": {},
   "outputs": [],
   "source": [
    "def load_res(files, directory):\n",
    "    data = pd.DataFrame(columns = ['ID', 'Predictions'])\n",
    "    rows = []\n",
    "    for file in files:\n",
    "        patient = np.load(directory + file)\n",
    "        patient = pd.DataFrame(patient[:, 1:])\n",
    "        patient.rename(columns={0: \"Coord_x\", 1: \"Coord_y\"}, inplace=True)\n",
    "        patient[['Coord_x', 'Coord_y']] = (patient[['Coord_x', 'Coord_y']] - coord_mean) / coord_std\n",
    "        \n",
    "        # Using the simple logistic regression\n",
    "        # preds = tiles_classifier.predict_proba(patient)[:, 1]\n",
    "        \n",
    "        # Using the bagging classifier\n",
    "        preds = tiles_classifier.predict_proba(patient)[:, 1]\n",
    "        rows.append({'ID':int(file[3:6]), 'Predictions':preds})\n",
    "        \n",
    "    data = pd.DataFrame(rows, columns = ['ID', 'Predictions'])              \n",
    "    return data"
   ]
  },
  {
   "cell_type": "code",
   "execution_count": 35,
   "metadata": {},
   "outputs": [
    {
     "name": "stdout",
     "output_type": "stream",
     "text": [
      "(268, 2)\n"
     ]
    },
    {
     "data": {
      "text/html": [
       "<div>\n",
       "<style scoped>\n",
       "    .dataframe tbody tr th:only-of-type {\n",
       "        vertical-align: middle;\n",
       "    }\n",
       "\n",
       "    .dataframe tbody tr th {\n",
       "        vertical-align: top;\n",
       "    }\n",
       "\n",
       "    .dataframe thead th {\n",
       "        text-align: right;\n",
       "    }\n",
       "</style>\n",
       "<table border=\"1\" class=\"dataframe\">\n",
       "  <thead>\n",
       "    <tr style=\"text-align: right;\">\n",
       "      <th></th>\n",
       "      <th>ID</th>\n",
       "      <th>Predictions</th>\n",
       "    </tr>\n",
       "  </thead>\n",
       "  <tbody>\n",
       "    <tr>\n",
       "      <td>0</td>\n",
       "      <td>1</td>\n",
       "      <td>[1.1542013879410283e-05, 0.0008490391208253141...</td>\n",
       "    </tr>\n",
       "    <tr>\n",
       "      <td>1</td>\n",
       "      <td>2</td>\n",
       "      <td>[0.00021115420494274107, 8.440413912976636e-06...</td>\n",
       "    </tr>\n",
       "    <tr>\n",
       "      <td>2</td>\n",
       "      <td>3</td>\n",
       "      <td>[0.00040197625633553864, 0.0006589001758326207...</td>\n",
       "    </tr>\n",
       "    <tr>\n",
       "      <td>3</td>\n",
       "      <td>5</td>\n",
       "      <td>[4.5044872513669925e-06, 0.0001168596073935127...</td>\n",
       "    </tr>\n",
       "    <tr>\n",
       "      <td>4</td>\n",
       "      <td>6</td>\n",
       "      <td>[0.0007404804769013441, 0.10709544010430105, 8...</td>\n",
       "    </tr>\n",
       "  </tbody>\n",
       "</table>\n",
       "</div>"
      ],
      "text/plain": [
       "   ID                                        Predictions\n",
       "0   1  [1.1542013879410283e-05, 0.0008490391208253141...\n",
       "1   2  [0.00021115420494274107, 8.440413912976636e-06...\n",
       "2   3  [0.00040197625633553864, 0.0006589001758326207...\n",
       "3   5  [4.5044872513669925e-06, 0.0001168596073935127...\n",
       "4   6  [0.0007404804769013441, 0.10709544010430105, 8..."
      ]
     },
     "execution_count": 35,
     "metadata": {},
     "output_type": "execute_result"
    }
   ],
   "source": [
    "res_train_features = load_res(files, res_directory)\n",
    "print(res_train_features.shape)\n",
    "res_train_features.head()"
   ]
  },
  {
   "cell_type": "code",
   "execution_count": 36,
   "metadata": {},
   "outputs": [
    {
     "data": {
      "text/plain": [
       "True"
      ]
     },
     "execution_count": 36,
     "metadata": {},
     "output_type": "execute_result"
    }
   ],
   "source": [
    "# Again, making sure the IDs are the same before assigning the target values.\n",
    "(train_output[train_output['ID'].isin(res_train_features['ID'].values)].ID.values == res_train_features.ID.values).all()"
   ]
  },
  {
   "cell_type": "code",
   "execution_count": 37,
   "metadata": {},
   "outputs": [],
   "source": [
    "res_train_features['Target'] = train_output[train_output['ID'].isin(res_train_features['ID'].values)].Target.values"
   ]
  },
  {
   "cell_type": "code",
   "execution_count": 38,
   "metadata": {},
   "outputs": [
    {
     "data": {
      "text/html": [
       "<div>\n",
       "<style scoped>\n",
       "    .dataframe tbody tr th:only-of-type {\n",
       "        vertical-align: middle;\n",
       "    }\n",
       "\n",
       "    .dataframe tbody tr th {\n",
       "        vertical-align: top;\n",
       "    }\n",
       "\n",
       "    .dataframe thead th {\n",
       "        text-align: right;\n",
       "    }\n",
       "</style>\n",
       "<table border=\"1\" class=\"dataframe\">\n",
       "  <thead>\n",
       "    <tr style=\"text-align: right;\">\n",
       "      <th></th>\n",
       "      <th>ID</th>\n",
       "      <th>Predictions</th>\n",
       "      <th>Target</th>\n",
       "    </tr>\n",
       "  </thead>\n",
       "  <tbody>\n",
       "    <tr>\n",
       "      <td>0</td>\n",
       "      <td>1</td>\n",
       "      <td>[1.1542013879410283e-05, 0.0008490391208253141...</td>\n",
       "      <td>0</td>\n",
       "    </tr>\n",
       "    <tr>\n",
       "      <td>1</td>\n",
       "      <td>2</td>\n",
       "      <td>[0.00021115420494274107, 8.440413912976636e-06...</td>\n",
       "      <td>0</td>\n",
       "    </tr>\n",
       "    <tr>\n",
       "      <td>2</td>\n",
       "      <td>3</td>\n",
       "      <td>[0.00040197625633553864, 0.0006589001758326207...</td>\n",
       "      <td>0</td>\n",
       "    </tr>\n",
       "    <tr>\n",
       "      <td>3</td>\n",
       "      <td>5</td>\n",
       "      <td>[4.5044872513669925e-06, 0.0001168596073935127...</td>\n",
       "      <td>0</td>\n",
       "    </tr>\n",
       "    <tr>\n",
       "      <td>4</td>\n",
       "      <td>6</td>\n",
       "      <td>[0.0007404804769013441, 0.10709544010430105, 8...</td>\n",
       "      <td>0</td>\n",
       "    </tr>\n",
       "  </tbody>\n",
       "</table>\n",
       "</div>"
      ],
      "text/plain": [
       "   ID                                        Predictions  Target\n",
       "0   1  [1.1542013879410283e-05, 0.0008490391208253141...       0\n",
       "1   2  [0.00021115420494274107, 8.440413912976636e-06...       0\n",
       "2   3  [0.00040197625633553864, 0.0006589001758326207...       0\n",
       "3   5  [4.5044872513669925e-06, 0.0001168596073935127...       0\n",
       "4   6  [0.0007404804769013441, 0.10709544010430105, 8...       0"
      ]
     },
     "execution_count": 38,
     "metadata": {},
     "output_type": "execute_result"
    }
   ],
   "source": [
    "res_train_features.head()"
   ]
  },
  {
   "cell_type": "markdown",
   "metadata": {},
   "source": [
    "#### Feature engineering"
   ]
  },
  {
   "cell_type": "markdown",
   "metadata": {},
   "source": [
    "Since all patients don't have the same number of tiles (at most 1000 but some have less), I couldn't simply feed the predictions to a neural network. What I did was to extract useful informations from each set of predictions and build a model based on those newly generated features.  \n",
    "\n",
    "Here are the features I generated :\n",
    "\n",
    "- Number of predictions with a probability > 0.1, > 0.2, > 0.3 ... > 0.9.\n",
    "- Mean of predictions with a probability > 0.1, > 0.2, > 0.3 ... > 0.9.\n",
    "- Value of the highest probability.\n",
    "- Since we can consider elements with a probability > 0.5 as Positives (this could be tuned), I also checked the number of **positive elements that had a positive neighbor**. I felt like if a tile had some metastase, maybe the ones next to it also have some metastase. But it might be a little bit flawed since we're not dealing with a closeness in depth. What I mean by that is that tiles are not like a brain MRI where if some tumor is present at a certain depth, then some tumor will very likely be present in the neighbouring layers. But in this case tiles are fragments of a large image of huge size, so one tile maybe in the top right corner of that image and the next tile is actually a little bit lower but at the left of that image (so not close at all). Anyway, it was just to clarify that this feature might not be 100% accurate and we would need a better understanding of the tiles distribution to accurately generate it.  \n",
    "\n",
    "These are the features I thought might be interesting but I'm sure other features could be found (for example ratios instead of number of elements, top n predictions etc...)."
   ]
  },
  {
   "cell_type": "code",
   "execution_count": 39,
   "metadata": {},
   "outputs": [],
   "source": [
    "res_train_features_copy = res_train_features.copy()"
   ]
  },
  {
   "cell_type": "code",
   "execution_count": 40,
   "metadata": {},
   "outputs": [],
   "source": [
    "# This will allow us to count the number of positive elements who have a positive neighbor.\n",
    "# I'm using np.where to find the indexes of positive elements, which is what will be the input of that function.\n",
    "def count_neighbor(array):\n",
    "    \"\"\" \n",
    "    Count the number of elements that satisfy this condition:\n",
    "            array[i+1] = array[i] + 1\n",
    "        or\n",
    "            array[i-1] = array[i] - 1\n",
    "    \"\"\"\n",
    "    count = 0\n",
    "    length = len(array)\n",
    "    \n",
    "    if(length > 1):\n",
    "        \n",
    "        for i in range(len(array)):\n",
    "            \n",
    "            if i == 0:\n",
    "                if array[i + 1] == array[i] + 1:\n",
    "                    count+=1\n",
    "                \n",
    "            elif i == len(array) - 1:\n",
    "                if array[i - 1] == array[i] - 1:\n",
    "                    count+=1\n",
    "                \n",
    "            else:\n",
    "                if (array[i - 1] == array[i] - 1) or (array[i + 1] == array[i] + 1):\n",
    "                    count+=1\n",
    "                \n",
    "    return count"
   ]
  },
  {
   "cell_type": "code",
   "execution_count": 41,
   "metadata": {},
   "outputs": [],
   "source": [
    "res_train_features_copy['Positives'] = res_train_features_copy['Predictions'].apply((lambda x: len(np.where(x > 0.5)[0])))\n",
    "res_train_features_copy['Count_Positive_Neighbors'] = res_train_features_copy['Predictions'].apply((lambda x: count_neighbor(np.where(x > 0.5)[0])))\n",
    "res_train_features_copy['max'] = res_train_features_copy['Predictions'].apply((lambda x: np.amax(x)))"
   ]
  },
  {
   "cell_type": "code",
   "execution_count": 42,
   "metadata": {},
   "outputs": [
    {
     "name": "stderr",
     "output_type": "stream",
     "text": [
      "C:\\Users\\ilyag\\Anaconda3\\lib\\site-packages\\numpy\\core\\fromnumeric.py:3118: RuntimeWarning: Mean of empty slice.\n",
      "  out=out, **kwargs)\n"
     ]
    }
   ],
   "source": [
    "for i in np.arange(0.1, 1, 0.1):\n",
    "    p = round(i,2)\n",
    "    res_train_features_copy['Count_' + str(p)] = res_train_features_copy['Predictions'].apply((lambda x: len(np.where(x > p)[0])))\n",
    "    res_train_features_copy['Mean_' + str(p)] = res_train_features_copy['Predictions'].apply((lambda x: np.mean(x[x > p])))"
   ]
  },
  {
   "cell_type": "code",
   "execution_count": 43,
   "metadata": {},
   "outputs": [
    {
     "data": {
      "text/plain": [
       "ID                            0\n",
       "Predictions                   0\n",
       "Target                        0\n",
       "Positives                     0\n",
       "Count_Positive_Neighbors      0\n",
       "max                           0\n",
       "Count_0.1                     0\n",
       "Mean_0.1                      1\n",
       "Count_0.2                     0\n",
       "Mean_0.2                      8\n",
       "Count_0.3                     0\n",
       "Mean_0.3                     20\n",
       "Count_0.4                     0\n",
       "Mean_0.4                     37\n",
       "Count_0.5                     0\n",
       "Mean_0.5                     53\n",
       "Count_0.6                     0\n",
       "Mean_0.6                     84\n",
       "Count_0.7                     0\n",
       "Mean_0.7                    110\n",
       "Count_0.8                     0\n",
       "Mean_0.8                    152\n",
       "Count_0.9                     0\n",
       "Mean_0.9                    181\n",
       "dtype: int64"
      ]
     },
     "execution_count": 43,
     "metadata": {},
     "output_type": "execute_result"
    }
   ],
   "source": [
    "res_train_features_copy.isnull().sum(axis = 0)"
   ]
  },
  {
   "cell_type": "code",
   "execution_count": 44,
   "metadata": {},
   "outputs": [],
   "source": [
    "res_train_features_copy.fillna(0.0, inplace = True)"
   ]
  },
  {
   "cell_type": "code",
   "execution_count": 45,
   "metadata": {},
   "outputs": [
    {
     "data": {
      "text/html": [
       "<div>\n",
       "<style scoped>\n",
       "    .dataframe tbody tr th:only-of-type {\n",
       "        vertical-align: middle;\n",
       "    }\n",
       "\n",
       "    .dataframe tbody tr th {\n",
       "        vertical-align: top;\n",
       "    }\n",
       "\n",
       "    .dataframe thead th {\n",
       "        text-align: right;\n",
       "    }\n",
       "</style>\n",
       "<table border=\"1\" class=\"dataframe\">\n",
       "  <thead>\n",
       "    <tr style=\"text-align: right;\">\n",
       "      <th></th>\n",
       "      <th>ID</th>\n",
       "      <th>Predictions</th>\n",
       "      <th>Target</th>\n",
       "      <th>Positives</th>\n",
       "      <th>Count_Positive_Neighbors</th>\n",
       "      <th>max</th>\n",
       "      <th>Count_0.1</th>\n",
       "      <th>Mean_0.1</th>\n",
       "      <th>Count_0.2</th>\n",
       "      <th>Mean_0.2</th>\n",
       "      <th>...</th>\n",
       "      <th>Count_0.5</th>\n",
       "      <th>Mean_0.5</th>\n",
       "      <th>Count_0.6</th>\n",
       "      <th>Mean_0.6</th>\n",
       "      <th>Count_0.7</th>\n",
       "      <th>Mean_0.7</th>\n",
       "      <th>Count_0.8</th>\n",
       "      <th>Mean_0.8</th>\n",
       "      <th>Count_0.9</th>\n",
       "      <th>Mean_0.9</th>\n",
       "    </tr>\n",
       "  </thead>\n",
       "  <tbody>\n",
       "    <tr>\n",
       "      <td>0</td>\n",
       "      <td>1</td>\n",
       "      <td>[1.1542013879410283e-05, 0.0008490391208253141...</td>\n",
       "      <td>0</td>\n",
       "      <td>1</td>\n",
       "      <td>0</td>\n",
       "      <td>0.720606</td>\n",
       "      <td>24</td>\n",
       "      <td>0.220620</td>\n",
       "      <td>9</td>\n",
       "      <td>0.365560</td>\n",
       "      <td>...</td>\n",
       "      <td>1</td>\n",
       "      <td>0.720606</td>\n",
       "      <td>1</td>\n",
       "      <td>0.720606</td>\n",
       "      <td>1</td>\n",
       "      <td>0.720606</td>\n",
       "      <td>0</td>\n",
       "      <td>0.000000</td>\n",
       "      <td>0</td>\n",
       "      <td>0.000000</td>\n",
       "    </tr>\n",
       "    <tr>\n",
       "      <td>1</td>\n",
       "      <td>2</td>\n",
       "      <td>[0.00021115420494274107, 8.440413912976636e-06...</td>\n",
       "      <td>0</td>\n",
       "      <td>1</td>\n",
       "      <td>0</td>\n",
       "      <td>0.735163</td>\n",
       "      <td>47</td>\n",
       "      <td>0.218858</td>\n",
       "      <td>22</td>\n",
       "      <td>0.311126</td>\n",
       "      <td>...</td>\n",
       "      <td>1</td>\n",
       "      <td>0.735163</td>\n",
       "      <td>1</td>\n",
       "      <td>0.735163</td>\n",
       "      <td>1</td>\n",
       "      <td>0.735163</td>\n",
       "      <td>0</td>\n",
       "      <td>0.000000</td>\n",
       "      <td>0</td>\n",
       "      <td>0.000000</td>\n",
       "    </tr>\n",
       "    <tr>\n",
       "      <td>2</td>\n",
       "      <td>3</td>\n",
       "      <td>[0.00040197625633553864, 0.0006589001758326207...</td>\n",
       "      <td>0</td>\n",
       "      <td>12</td>\n",
       "      <td>0</td>\n",
       "      <td>0.844674</td>\n",
       "      <td>97</td>\n",
       "      <td>0.274403</td>\n",
       "      <td>52</td>\n",
       "      <td>0.387546</td>\n",
       "      <td>...</td>\n",
       "      <td>12</td>\n",
       "      <td>0.646944</td>\n",
       "      <td>7</td>\n",
       "      <td>0.723482</td>\n",
       "      <td>5</td>\n",
       "      <td>0.758383</td>\n",
       "      <td>1</td>\n",
       "      <td>0.844674</td>\n",
       "      <td>0</td>\n",
       "      <td>0.000000</td>\n",
       "    </tr>\n",
       "    <tr>\n",
       "      <td>3</td>\n",
       "      <td>5</td>\n",
       "      <td>[4.5044872513669925e-06, 0.0001168596073935127...</td>\n",
       "      <td>0</td>\n",
       "      <td>1</td>\n",
       "      <td>0</td>\n",
       "      <td>0.594628</td>\n",
       "      <td>31</td>\n",
       "      <td>0.206928</td>\n",
       "      <td>12</td>\n",
       "      <td>0.315861</td>\n",
       "      <td>...</td>\n",
       "      <td>1</td>\n",
       "      <td>0.594628</td>\n",
       "      <td>0</td>\n",
       "      <td>0.000000</td>\n",
       "      <td>0</td>\n",
       "      <td>0.000000</td>\n",
       "      <td>0</td>\n",
       "      <td>0.000000</td>\n",
       "      <td>0</td>\n",
       "      <td>0.000000</td>\n",
       "    </tr>\n",
       "    <tr>\n",
       "      <td>4</td>\n",
       "      <td>6</td>\n",
       "      <td>[0.0007404804769013441, 0.10709544010430105, 8...</td>\n",
       "      <td>0</td>\n",
       "      <td>16</td>\n",
       "      <td>0</td>\n",
       "      <td>0.921811</td>\n",
       "      <td>112</td>\n",
       "      <td>0.280092</td>\n",
       "      <td>58</td>\n",
       "      <td>0.403671</td>\n",
       "      <td>...</td>\n",
       "      <td>16</td>\n",
       "      <td>0.644447</td>\n",
       "      <td>10</td>\n",
       "      <td>0.704941</td>\n",
       "      <td>3</td>\n",
       "      <td>0.817631</td>\n",
       "      <td>2</td>\n",
       "      <td>0.863925</td>\n",
       "      <td>1</td>\n",
       "      <td>0.921811</td>\n",
       "    </tr>\n",
       "  </tbody>\n",
       "</table>\n",
       "<p>5 rows × 24 columns</p>\n",
       "</div>"
      ],
      "text/plain": [
       "   ID                                        Predictions  Target  Positives  \\\n",
       "0   1  [1.1542013879410283e-05, 0.0008490391208253141...       0          1   \n",
       "1   2  [0.00021115420494274107, 8.440413912976636e-06...       0          1   \n",
       "2   3  [0.00040197625633553864, 0.0006589001758326207...       0         12   \n",
       "3   5  [4.5044872513669925e-06, 0.0001168596073935127...       0          1   \n",
       "4   6  [0.0007404804769013441, 0.10709544010430105, 8...       0         16   \n",
       "\n",
       "   Count_Positive_Neighbors       max  Count_0.1  Mean_0.1  Count_0.2  \\\n",
       "0                         0  0.720606         24  0.220620          9   \n",
       "1                         0  0.735163         47  0.218858         22   \n",
       "2                         0  0.844674         97  0.274403         52   \n",
       "3                         0  0.594628         31  0.206928         12   \n",
       "4                         0  0.921811        112  0.280092         58   \n",
       "\n",
       "   Mean_0.2  ...  Count_0.5  Mean_0.5  Count_0.6  Mean_0.6  Count_0.7  \\\n",
       "0  0.365560  ...          1  0.720606          1  0.720606          1   \n",
       "1  0.311126  ...          1  0.735163          1  0.735163          1   \n",
       "2  0.387546  ...         12  0.646944          7  0.723482          5   \n",
       "3  0.315861  ...          1  0.594628          0  0.000000          0   \n",
       "4  0.403671  ...         16  0.644447         10  0.704941          3   \n",
       "\n",
       "   Mean_0.7  Count_0.8  Mean_0.8  Count_0.9  Mean_0.9  \n",
       "0  0.720606          0  0.000000          0  0.000000  \n",
       "1  0.735163          0  0.000000          0  0.000000  \n",
       "2  0.758383          1  0.844674          0  0.000000  \n",
       "3  0.000000          0  0.000000          0  0.000000  \n",
       "4  0.817631          2  0.863925          1  0.921811  \n",
       "\n",
       "[5 rows x 24 columns]"
      ]
     },
     "execution_count": 45,
     "metadata": {},
     "output_type": "execute_result"
    }
   ],
   "source": [
    "res_train_features_copy.head()"
   ]
  },
  {
   "cell_type": "markdown",
   "metadata": {},
   "source": [
    "#### Bit of visualization"
   ]
  },
  {
   "cell_type": "code",
   "execution_count": 46,
   "metadata": {},
   "outputs": [
    {
     "data": {
      "image/png": "[encoded data removed]",
      "text/plain": [
       "<Figure size 432x288 with 1 Axes>"
      ]
     },
     "metadata": {
      "needs_background": "light"
     },
     "output_type": "display_data"
    }
   ],
   "source": [
    "res_train_features_copy.groupby(\"Target\").Positives.hist(alpha=0.4, grid=False)\n",
    "plt.legend(['0', '1'])\n",
    "plt.show()"
   ]
  },
  {
   "cell_type": "code",
   "execution_count": 47,
   "metadata": {},
   "outputs": [
    {
     "data": {
      "text/plain": [
       "array([<matplotlib.axes._subplots.AxesSubplot object at 0x00000222C37FE648>,\n",
       "       <matplotlib.axes._subplots.AxesSubplot object at 0x00000222C45FCA48>],\n",
       "      dtype=object)"
      ]
     },
     "execution_count": 47,
     "metadata": {},
     "output_type": "execute_result"
    },
    {
     "data": {
      "image/png": "[encoded data removed]",
      "text/plain": [
       "<Figure size 432x288 with 2 Axes>"
      ]
     },
     "metadata": {
      "needs_background": "light"
     },
     "output_type": "display_data"
    }
   ],
   "source": [
    "res_train_features_copy['Positives'].hist(by=res_train_features_copy['Target'], )"
   ]
  },
  {
   "cell_type": "code",
   "execution_count": 48,
   "metadata": {},
   "outputs": [
    {
     "data": {
      "image/png": "[encoded data removed]",
      "text/plain": [
       "<Figure size 432x288 with 1 Axes>"
      ]
     },
     "metadata": {
      "needs_background": "light"
     },
     "output_type": "display_data"
    }
   ],
   "source": [
    "res_train_features_copy.groupby(\"Target\").Count_Positive_Neighbors.hist(alpha=0.4, grid=False)\n",
    "plt.legend(['0', '1'])\n",
    "plt.show()"
   ]
  },
  {
   "cell_type": "code",
   "execution_count": 49,
   "metadata": {},
   "outputs": [
    {
     "data": {
      "text/plain": [
       "array([<matplotlib.axes._subplots.AxesSubplot object at 0x00000222C3824908>,\n",
       "       <matplotlib.axes._subplots.AxesSubplot object at 0x00000222C4231948>],\n",
       "      dtype=object)"
      ]
     },
     "execution_count": 49,
     "metadata": {},
     "output_type": "execute_result"
    },
    {
     "data": {
      "image/png": "[encoded data removed]",
      "text/plain": [
       "<Figure size 432x288 with 2 Axes>"
      ]
     },
     "metadata": {
      "needs_background": "light"
     },
     "output_type": "display_data"
    }
   ],
   "source": [
    "res_train_features_copy['Count_Positive_Neighbors'].hist(by=res_train_features_copy['Target'], )"
   ]
  },
  {
   "cell_type": "markdown",
   "metadata": {},
   "source": [
    "What is interesting (but you cannot see here) is that when using the simple **tile_classifier** (not the bagging version of it) the class 0 had much more Positives and Count_Positive_Neighbor. The bagging version is thus much more reliable when predicting positive classes."
   ]
  },
  {
   "cell_type": "markdown",
   "metadata": {},
   "source": [
    "#### Standardization"
   ]
  },
  {
   "cell_type": "code",
   "execution_count": 50,
   "metadata": {},
   "outputs": [],
   "source": [
    "res_train_labels = res_train_features_copy['Target'].values\n",
    "### Positives is the same as Count_O5 that's why we also drop it as a feature.\n",
    "features = list(res_train_features_copy.drop(['Target', 'Positives', 'Predictions', 'ID'], axis=1).columns)"
   ]
  },
  {
   "cell_type": "code",
   "execution_count": 51,
   "metadata": {},
   "outputs": [],
   "source": [
    "from sklearn.preprocessing import StandardScaler\n",
    "scaler = StandardScaler()\n",
    "res_train_features_scaled = scaler.fit_transform(res_train_features_copy[features])"
   ]
  },
  {
   "cell_type": "markdown",
   "metadata": {},
   "source": [
    "#### Model"
   ]
  },
  {
   "cell_type": "markdown",
   "metadata": {},
   "source": [
    "##### Cross-validation on the data"
   ]
  },
  {
   "cell_type": "code",
   "execution_count": 52,
   "metadata": {},
   "outputs": [
    {
     "name": "stdout",
     "output_type": "stream",
     "text": [
      "Predicting weak labels by mean resnet\n",
      "AUC: mean 0.873644922615511, std 0.04854665608456823\n"
     ]
    }
   ],
   "source": [
    "aucs = []\n",
    "for seed in range(40,46):\n",
    "    # Use logistic regression with L2 penalty\n",
    "    model = sklearn.linear_model.LogisticRegression(penalty=\"l2\", C=1.0, solver=\"liblinear\")\n",
    "\n",
    "    cv = sklearn.model_selection.StratifiedKFold(n_splits=5, shuffle=True,\n",
    "                                                 random_state=seed)\n",
    "\n",
    "    # Cross validation on the training set\n",
    "    auc = sklearn.model_selection.cross_val_score(model, X=res_train_features_scaled, y=res_train_labels,\n",
    "                                                  cv=cv, scoring=\"roc_auc\", verbose=0)\n",
    "\n",
    "    aucs.append(auc)\n",
    "\n",
    "aucs = np.array(aucs)\n",
    "\n",
    "print(\"Predicting weak labels by mean resnet\")\n",
    "print(\"AUC: mean {}, std {}\".format(aucs.mean(), aucs.std()))"
   ]
  },
  {
   "cell_type": "code",
   "execution_count": 53,
   "metadata": {},
   "outputs": [
    {
     "name": "stdout",
     "output_type": "stream",
     "text": [
      "Predicting weak labels by mean resnet\n",
      "AUC: mean 0.8590161064425771, std 0.044573460673602384\n"
     ]
    }
   ],
   "source": [
    "# Random Forest\n",
    "aucs = []\n",
    "for seed in range(40,46):\n",
    "    # Use logistic regression with L2 penalty\n",
    "    model = sklearn.ensemble.RandomForestClassifier()\n",
    "\n",
    "    cv = sklearn.model_selection.StratifiedKFold(n_splits=5, shuffle=True,\n",
    "                                                 random_state=seed)\n",
    "\n",
    "    # Cross validation on the training set\n",
    "    auc = sklearn.model_selection.cross_val_score(model, X=res_train_features_scaled, y=res_train_labels,\n",
    "                                                  cv=cv, scoring=\"roc_auc\", verbose=0)\n",
    "\n",
    "    aucs.append(auc)\n",
    "\n",
    "aucs = np.array(aucs)\n",
    "\n",
    "print(\"Predicting weak labels by mean resnet\")\n",
    "print(\"AUC: mean {}, std {}\".format(aucs.mean(), aucs.std()))"
   ]
  },
  {
   "cell_type": "code",
   "execution_count": 54,
   "metadata": {},
   "outputs": [
    {
     "name": "stdout",
     "output_type": "stream",
     "text": [
      "Predicting weak labels by mean resnet\n",
      "AUC: mean 0.8427351950881362, std 0.04247356208171113\n"
     ]
    }
   ],
   "source": [
    "# XGBoost\n",
    "aucs = []\n",
    "for seed in range(40,46):\n",
    "    # Use logistic regression with L2 penalty\n",
    "    model = xgb.XGBClassifier(max_depth=8)\n",
    "\n",
    "    cv = sklearn.model_selection.StratifiedKFold(n_splits=5, shuffle=True,\n",
    "                                                 random_state=seed)\n",
    "\n",
    "    # Cross validation on the training set\n",
    "    auc = sklearn.model_selection.cross_val_score(model, X=res_train_features_scaled, y=res_train_labels,\n",
    "                                                  cv=cv, scoring=\"roc_auc\", verbose=0)\n",
    "\n",
    "    aucs.append(auc)\n",
    "\n",
    "aucs = np.array(aucs)\n",
    "\n",
    "print(\"Predicting weak labels by mean resnet\")\n",
    "print(\"AUC: mean {}, std {}\".format(aucs.mean(), aucs.std()))"
   ]
  },
  {
   "cell_type": "code",
   "execution_count": 55,
   "metadata": {},
   "outputs": [
    {
     "name": "stdout",
     "output_type": "stream",
     "text": [
      "Predicting weak labels by mean resnet\n",
      "AUC: mean 0.8609707014118779, std 0.05392381990557014\n"
     ]
    }
   ],
   "source": [
    "# SVM\n",
    "from sklearn.svm import SVC\n",
    "aucs = []\n",
    "for seed in range(40,46):\n",
    "    model = SVC()\n",
    "\n",
    "    cv = sklearn.model_selection.StratifiedKFold(n_splits=5, shuffle=True,\n",
    "                                                 random_state=seed)\n",
    "\n",
    "    # Cross validation on the training set\n",
    "    auc = sklearn.model_selection.cross_val_score(model, X=res_train_features_scaled, y=res_train_labels,\n",
    "                                                  cv=cv, scoring=\"roc_auc\", verbose=0)\n",
    "\n",
    "    aucs.append(auc)\n",
    "\n",
    "aucs = np.array(aucs)\n",
    "\n",
    "print(\"Predicting weak labels by mean resnet\")\n",
    "print(\"AUC: mean {}, std {}\".format(aucs.mean(), aucs.std()))"
   ]
  },
  {
   "cell_type": "markdown",
   "metadata": {},
   "source": [
    "##### Train on full data"
   ]
  },
  {
   "cell_type": "code",
   "execution_count": 56,
   "metadata": {},
   "outputs": [
    {
     "data": {
      "text/plain": [
       "LogisticRegression(C=1.0, class_weight=None, dual=False, fit_intercept=True,\n",
       "                   intercept_scaling=1, l1_ratio=None, max_iter=100,\n",
       "                   multi_class='auto', n_jobs=None, penalty='l2',\n",
       "                   random_state=None, solver='liblinear', tol=0.0001, verbose=0,\n",
       "                   warm_start=False)"
      ]
     },
     "execution_count": 56,
     "metadata": {},
     "output_type": "execute_result"
    }
   ],
   "source": [
    "final_model = sklearn.linear_model.LogisticRegression(penalty=\"l2\", C=1.0, solver=\"liblinear\")\n",
    "final_model.fit(res_train_features_scaled, res_train_labels)"
   ]
  },
  {
   "cell_type": "markdown",
   "metadata": {},
   "source": [
    "Using a bagging version of that classifier to improves our results."
   ]
  },
  {
   "cell_type": "code",
   "execution_count": 57,
   "metadata": {},
   "outputs": [
    {
     "data": {
      "text/plain": [
       "BaggingClassifier(base_estimator=LogisticRegression(C=1.0, class_weight=None,\n",
       "                                                    dual=False,\n",
       "                                                    fit_intercept=True,\n",
       "                                                    intercept_scaling=1,\n",
       "                                                    l1_ratio=None, max_iter=100,\n",
       "                                                    multi_class='auto',\n",
       "                                                    n_jobs=None, penalty='l2',\n",
       "                                                    random_state=None,\n",
       "                                                    solver='liblinear',\n",
       "                                                    tol=0.0001, verbose=0,\n",
       "                                                    warm_start=False),\n",
       "                  bootstrap=True, bootstrap_features=False, max_features=1.0,\n",
       "                  max_samples=1.0, n_estimators=10, n_jobs=None,\n",
       "                  oob_score=False, random_state=42, verbose=0,\n",
       "                  warm_start=False)"
      ]
     },
     "execution_count": 57,
     "metadata": {},
     "output_type": "execute_result"
    }
   ],
   "source": [
    "patient_classifier = BaggingClassifier(base_estimator=sklearn.linear_model.LogisticRegression(penalty=\"l2\", C=1.0, solver=\"liblinear\"),n_estimators=10, random_state=42)\n",
    "patient_classifier.fit(res_train_features_scaled, res_train_labels)"
   ]
  },
  {
   "cell_type": "markdown",
   "metadata": {},
   "source": [
    "##### Feature importance on a RF model"
   ]
  },
  {
   "cell_type": "code",
   "execution_count": 58,
   "metadata": {},
   "outputs": [
    {
     "data": {
      "text/plain": [
       "RandomForestClassifier(bootstrap=True, ccp_alpha=0.0, class_weight=None,\n",
       "                       criterion='gini', max_depth=None, max_features='auto',\n",
       "                       max_leaf_nodes=None, max_samples=None,\n",
       "                       min_impurity_decrease=0.0, min_impurity_split=None,\n",
       "                       min_samples_leaf=1, min_samples_split=2,\n",
       "                       min_weight_fraction_leaf=0.0, n_estimators=100,\n",
       "                       n_jobs=None, oob_score=False, random_state=None,\n",
       "                       verbose=0, warm_start=False)"
      ]
     },
     "execution_count": 58,
     "metadata": {},
     "output_type": "execute_result"
    }
   ],
   "source": [
    "rf_2 = RandomForestClassifier()\n",
    "rf_2.fit(res_train_features_scaled, res_train_labels)"
   ]
  },
  {
   "cell_type": "code",
   "execution_count": 59,
   "metadata": {},
   "outputs": [
    {
     "data": {
      "text/plain": [
       "<matplotlib.axes._subplots.AxesSubplot at 0x222c42e0b48>"
      ]
     },
     "execution_count": 59,
     "metadata": {},
     "output_type": "execute_result"
    },
    {
     "data": {
      "image/png": "[encoded data removed]",
      "text/plain": [
       "<Figure size 432x288 with 1 Axes>"
      ]
     },
     "metadata": {
      "needs_background": "light"
     },
     "output_type": "display_data"
    }
   ],
   "source": [
    "feat_importances = pd.Series(rf_2.feature_importances_, index=features)\n",
    "feat_importances.nlargest(20).plot(kind='barh')"
   ]
  },
  {
   "cell_type": "markdown",
   "metadata": {},
   "source": [
    "##### Visualization"
   ]
  },
  {
   "cell_type": "code",
   "execution_count": 60,
   "metadata": {},
   "outputs": [
    {
     "data": {
      "image/png": "[encoded data removed]",
      "text/plain": [
       "<Figure size 432x288 with 1 Axes>"
      ]
     },
     "metadata": {
      "needs_background": "light"
     },
     "output_type": "display_data"
    }
   ],
   "source": [
    "res_train_features_copy.groupby(\"Target\")['max'].hist(alpha=0.4, grid=False)\n",
    "plt.legend(['0', '1'])\n",
    "plt.show()"
   ]
  },
  {
   "cell_type": "code",
   "execution_count": 61,
   "metadata": {},
   "outputs": [
    {
     "data": {
      "image/png": "[encoded data removed]",
      "text/plain": [
       "<Figure size 432x288 with 1 Axes>"
      ]
     },
     "metadata": {
      "needs_background": "light"
     },
     "output_type": "display_data"
    }
   ],
   "source": [
    "res_train_features_copy.groupby(\"Target\")['Count_0.9'].hist(alpha=0.4, grid=False)\n",
    "plt.legend(['0', '1'])\n",
    "plt.show()"
   ]
  },
  {
   "cell_type": "markdown",
   "metadata": {},
   "source": [
    "Another thing that is very intersting is that the simple tile classifier had actually much more prediction where the maximum value among the predictions was above 0.9 for the target 0 (around 60~70 instead of here ~15). The bagging version thus is more reliable when making predictions > 0.9."
   ]
  },
  {
   "cell_type": "markdown",
   "metadata": {},
   "source": [
    "#### Apply on test set"
   ]
  },
  {
   "cell_type": "code",
   "execution_count": 62,
   "metadata": {},
   "outputs": [],
   "source": [
    "test_res_directory = \"data/test_input/resnet_features/\"\n",
    "files_test = [file for file in os.listdir(test_res_directory) if 'annotated' not in file]\n",
    "res_test = load_res(files_test, test_res_directory)"
   ]
  },
  {
   "cell_type": "code",
   "execution_count": 63,
   "metadata": {},
   "outputs": [
    {
     "name": "stderr",
     "output_type": "stream",
     "text": [
      "C:\\Users\\ilyag\\Anaconda3\\lib\\site-packages\\numpy\\core\\fromnumeric.py:3118: RuntimeWarning: Mean of empty slice.\n",
      "  out=out, **kwargs)\n"
     ]
    }
   ],
   "source": [
    "# Adding features\n",
    "res_test['Positives'] = res_test['Predictions'].apply((lambda x: len(np.where(x > 0.5)[0])))\n",
    "res_test['Count_Positive_Neighbors'] = res_test['Predictions'].apply((lambda x: count_neighbor(np.where(x > 0.5)[0])))\n",
    "res_test['max'] = res_test['Predictions'].apply((lambda x: np.amax(x)))\n",
    "\n",
    "for i in np.arange(0.1, 1, 0.1):\n",
    "    p = round(i,2)\n",
    "    res_test['Count_' + str(p)] = res_test['Predictions'].apply((lambda x: len(np.where(x > p)[0])))\n",
    "    res_test['Mean_' + str(p)] = res_test['Predictions'].apply((lambda x: np.mean(x[x > p])))\n",
    "\n",
    "# Filling NAs\n",
    "res_test.fillna(0.0, inplace = True)\n",
    "\n",
    "# Scaling\n",
    "res_test_scaled = scaler.transform(res_test[features])"
   ]
  },
  {
   "cell_type": "code",
   "execution_count": 64,
   "metadata": {},
   "outputs": [],
   "source": [
    "# To use non-bagging version.\n",
    "# preds_test = final_model.predict_proba(res_test_scaled)[:,1]\n",
    "\n",
    "preds_test = patient_classifier.predict_proba(res_test_scaled)[:,1]\n",
    "\n",
    "test_output = pd.DataFrame()\n",
    "test_output['ID'] = res_test['ID']\n",
    "test_output['Target'] = preds_test\n",
    "test_output.set_index(\"ID\", inplace=True)\n",
    "test_output.to_csv('submissions/preds_test.csv')"
   ]
  },
  {
   "cell_type": "code",
   "execution_count": 65,
   "metadata": {},
   "outputs": [
    {
     "data": {
      "text/html": [
       "<div>\n",
       "<style scoped>\n",
       "    .dataframe tbody tr th:only-of-type {\n",
       "        vertical-align: middle;\n",
       "    }\n",
       "\n",
       "    .dataframe tbody tr th {\n",
       "        vertical-align: top;\n",
       "    }\n",
       "\n",
       "    .dataframe thead th {\n",
       "        text-align: right;\n",
       "    }\n",
       "</style>\n",
       "<table border=\"1\" class=\"dataframe\">\n",
       "  <thead>\n",
       "    <tr style=\"text-align: right;\">\n",
       "      <th></th>\n",
       "      <th>Target</th>\n",
       "    </tr>\n",
       "    <tr>\n",
       "      <th>ID</th>\n",
       "      <th></th>\n",
       "    </tr>\n",
       "  </thead>\n",
       "  <tbody>\n",
       "    <tr>\n",
       "      <td>0</td>\n",
       "      <td>0.207998</td>\n",
       "    </tr>\n",
       "    <tr>\n",
       "      <td>4</td>\n",
       "      <td>0.209908</td>\n",
       "    </tr>\n",
       "    <tr>\n",
       "      <td>16</td>\n",
       "      <td>0.881522</td>\n",
       "    </tr>\n",
       "    <tr>\n",
       "      <td>17</td>\n",
       "      <td>0.999386</td>\n",
       "    </tr>\n",
       "    <tr>\n",
       "      <td>20</td>\n",
       "      <td>0.244337</td>\n",
       "    </tr>\n",
       "  </tbody>\n",
       "</table>\n",
       "</div>"
      ],
      "text/plain": [
       "      Target\n",
       "ID          \n",
       "0   0.207998\n",
       "4   0.209908\n",
       "16  0.881522\n",
       "17  0.999386\n",
       "20  0.244337"
      ]
     },
     "execution_count": 65,
     "metadata": {},
     "output_type": "execute_result"
    }
   ],
   "source": [
    "test_output.head()"
   ]
  },
  {
   "cell_type": "markdown",
   "metadata": {},
   "source": [
    "### Results"
   ]
  },
  {
   "cell_type": "markdown",
   "metadata": {},
   "source": [
    "Tiles_classifier -> Simple Logistic Regression  \n",
    "Second model -> Simple Logistic Regression  \n",
    "Result on test set : **0.7338** AUC\n",
    "\n",
    "Tiles_classifier -> Bagging of Logistic Regression  \n",
    "Second model -> Simple Logistic Regression  \n",
    "Result on test set : **0.8194** AUC\n",
    "\n",
    "Tiles_classifier -> Bagging of Logistic Regression  \n",
    "Second model -> Bagging of Logistic Regression  \n",
    "Result on test set : **0.8206** AUC"
   ]
  },
  {
   "cell_type": "markdown",
   "metadata": {},
   "source": [
    "## Conclusion"
   ]
  },
  {
   "cell_type": "markdown",
   "metadata": {},
   "source": [
    "Through this study we managed to predict whether a patient has any metastase in its lymph node or not based on the tiles of histopathology slides. Using simple logistic regression models allowed us to achieve **0.8206** AUC (using ensembling methods) but a lot of improvement can still be made."
   ]
  },
  {
   "cell_type": "markdown",
   "metadata": {},
   "source": [
    "### Improvements"
   ]
  },
  {
   "cell_type": "markdown",
   "metadata": {},
   "source": [
    "As I said earlier my objective was to try to build a method that would make use of the annotated patients, so improvements can be made in testing other classifiers and tuning hyperparameters.  \n",
    "\n",
    "Other ideas I wanted to try:\n",
    "- Fix my attempt at a CNN so that we can apply the same method but directly on images.\n",
    "- Use a neural network directly on the probabilities (i.e. finding a way to have the same input for all patients despite the difference in number of tiles). This would allow the network to directly train on \"raw\" data and thus will prevent loss of information that comes from generating features.\n",
    "- Find other ways to use the probabilities (create new features, or using only the n top predictions etc..)"
   ]
  }
 ],
 "metadata": {
  "kernelspec": {
   "display_name": "Python 3",
   "language": "python",
   "name": "python3"
  },
  "language_info": {
   "codemirror_mode": {
    "name": "ipython",
    "version": 3
   },
   "file_extension": ".py",
   "mimetype": "text/x-python",
   "name": "python",
   "nbconvert_exporter": "python",
   "pygments_lexer": "ipython3",
   "version": "3.7.4"
  },
  "toc": {
   "base_numbering": 1,
   "nav_menu": {},
   "number_sections": true,
   "sideBar": true,
   "skip_h1_title": true,
   "title_cell": "Table of Contents",
   "title_sidebar": "Contents",
   "toc_cell": true,
   "toc_position": {
    "height": "calc(100% - 180px)",
    "left": "10px",
    "top": "150px",
    "width": "384px"
   },
   "toc_section_display": true,
   "toc_window_display": true
  }
 },
 "nbformat": 4,
 "nbformat_minor": 2
}
